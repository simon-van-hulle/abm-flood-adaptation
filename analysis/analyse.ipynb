{
 "cells": [
  {
   "cell_type": "code",
   "execution_count": 266,
   "metadata": {},
   "outputs": [],
   "source": [
    "import sys\n",
    "import os\n",
    "\n",
    "CURRENT_DIR = os.path.dirname(os.path.realpath(\"__file__\"))\n",
    "BASE_DIR = os.path.join(CURRENT_DIR, os.pardir)\n",
    "OUTPUT_DIR = os.path.join(BASE_DIR, \"output\")\n",
    "FIG_DIR = os.path.join(OUTPUT_DIR, \"figures\")\n",
    "\n",
    "sys.path.append(BASE_DIR)\n",
    "sys.path.append(CURRENT_DIR)\n",
    "\n",
    "from model.model import AdaptationModel, Wizard\n",
    "from model import utils\n",
    "import matplotlib.pyplot as plt\n",
    "import pandas as pd\n",
    "import seaborn as sns\n",
    "import numpy as np\n",
    "\n",
    "from ema_workbench import load_results\n",
    "from ema_workbench.analysis import pairs_plotting\n"
   ]
  },
  {
   "cell_type": "code",
   "execution_count": 267,
   "metadata": {},
   "outputs": [],
   "source": [
    "# Utilities\n",
    "from itertools import product, chain\n",
    "import pandas as pd\n",
    "import numpy as np\n",
    "\n",
    "\n",
    "def calc_col_names(named_shape):\n",
    "    *prefix, shape = named_shape\n",
    "    names = [map(str, range(i)) for i in shape]\n",
    "    return map('_'.join, product(prefix, *names))\n",
    "\n",
    "\n",
    "def create_flat_columns_df_from_dict_of_numpy(\n",
    "        named_np: dict[str, np.array],\n",
    "        n_samples_per_np: int,\n",
    "):\n",
    "    flat_nps = [a.reshape(n_samples_per_np, -1) for a in named_np.values()]\n",
    "    stacked_nps = np.column_stack(flat_nps)\n",
    "    named_shapes = [(name, arr.shape[1:]) for name, arr in named_np.items()]\n",
    "    col_names = [*chain.from_iterable(calc_col_names(named_shape) for named_shape in named_shapes)]\n",
    "    df = pd.DataFrame(stacked_nps, columns=col_names)\n",
    "    df = df.convert_dtypes()\n",
    "    return df\n",
    "\n",
    "\n",
    "    "
   ]
  },
  {
   "cell_type": "code",
   "execution_count": 268,
   "metadata": {},
   "outputs": [
    {
     "data": {
      "text/html": [
       "<div>\n",
       "<style scoped>\n",
       "    .dataframe tbody tr th:only-of-type {\n",
       "        vertical-align: middle;\n",
       "    }\n",
       "\n",
       "    .dataframe tbody tr th {\n",
       "        vertical-align: top;\n",
       "    }\n",
       "\n",
       "    .dataframe thead th {\n",
       "        text-align: right;\n",
       "    }\n",
       "</style>\n",
       "<table border=\"1\" class=\"dataframe\">\n",
       "  <thead>\n",
       "    <tr style=\"text-align: right;\">\n",
       "      <th></th>\n",
       "      <th>initial_adaptation_cost</th>\n",
       "      <th>scenario</th>\n",
       "      <th>policy</th>\n",
       "      <th>model</th>\n",
       "    </tr>\n",
       "  </thead>\n",
       "  <tbody>\n",
       "    <tr>\n",
       "      <th>0</th>\n",
       "      <td>131</td>\n",
       "      <td>0</td>\n",
       "      <td>Poor</td>\n",
       "      <td>AdaptationModel</td>\n",
       "    </tr>\n",
       "    <tr>\n",
       "      <th>1</th>\n",
       "      <td>178</td>\n",
       "      <td>1</td>\n",
       "      <td>Poor</td>\n",
       "      <td>AdaptationModel</td>\n",
       "    </tr>\n",
       "    <tr>\n",
       "      <th>2</th>\n",
       "      <td>40</td>\n",
       "      <td>2</td>\n",
       "      <td>Poor</td>\n",
       "      <td>AdaptationModel</td>\n",
       "    </tr>\n",
       "    <tr>\n",
       "      <th>3</th>\n",
       "      <td>131</td>\n",
       "      <td>0</td>\n",
       "      <td>Rich</td>\n",
       "      <td>AdaptationModel</td>\n",
       "    </tr>\n",
       "    <tr>\n",
       "      <th>4</th>\n",
       "      <td>178</td>\n",
       "      <td>1</td>\n",
       "      <td>Rich</td>\n",
       "      <td>AdaptationModel</td>\n",
       "    </tr>\n",
       "    <tr>\n",
       "      <th>5</th>\n",
       "      <td>40</td>\n",
       "      <td>2</td>\n",
       "      <td>Rich</td>\n",
       "      <td>AdaptationModel</td>\n",
       "    </tr>\n",
       "    <tr>\n",
       "      <th>6</th>\n",
       "      <td>131</td>\n",
       "      <td>0</td>\n",
       "      <td>Richest</td>\n",
       "      <td>AdaptationModel</td>\n",
       "    </tr>\n",
       "    <tr>\n",
       "      <th>7</th>\n",
       "      <td>178</td>\n",
       "      <td>1</td>\n",
       "      <td>Richest</td>\n",
       "      <td>AdaptationModel</td>\n",
       "    </tr>\n",
       "    <tr>\n",
       "      <th>8</th>\n",
       "      <td>40</td>\n",
       "      <td>2</td>\n",
       "      <td>Richest</td>\n",
       "      <td>AdaptationModel</td>\n",
       "    </tr>\n",
       "  </tbody>\n",
       "</table>\n",
       "</div>"
      ],
      "text/plain": [
       "   initial_adaptation_cost scenario   policy            model\n",
       "0                      131        0     Poor  AdaptationModel\n",
       "1                      178        1     Poor  AdaptationModel\n",
       "2                       40        2     Poor  AdaptationModel\n",
       "3                      131        0     Rich  AdaptationModel\n",
       "4                      178        1     Rich  AdaptationModel\n",
       "5                       40        2     Rich  AdaptationModel\n",
       "6                      131        0  Richest  AdaptationModel\n",
       "7                      178        1  Richest  AdaptationModel\n",
       "8                       40        2  Richest  AdaptationModel"
      ]
     },
     "metadata": {},
     "output_type": "display_data"
    },
    {
     "name": "stdout",
     "output_type": "stream",
     "text": [
      "Analysing 9 scenarios, with policies ['Poor', 'Rich', 'Richest'], 2 replications, 80 timesteps\n"
     ]
    }
   ],
   "source": [
    "## Load data\n",
    "\n",
    "results = load_results(os.path.join(OUTPUT_DIR, \"temporary.tar.gz\"))\n",
    "experiments, data = results\n",
    "\n",
    "display(experiments)\n",
    "\n",
    "unique_policies = experiments[\"policy\"].unique()\n",
    "\n",
    "n_scenarios = data[\"TotalAdapted\"].shape[0]\n",
    "n_replications = data[\"TotalAdapted\"].shape[1]\n",
    "n_timesteps = data[\"TotalAdapted\"].shape[2]\n",
    "n_policies = len(unique_policies)\n",
    "\n",
    "n_metrics = len(list(data.keys()))\n",
    "\n",
    "print(f\"Analysing {n_scenarios} scenarios, with policies {list(unique_policies)}, {n_replications} replications, {n_timesteps} timesteps\")"
   ]
  },
  {
   "cell_type": "code",
   "execution_count": 213,
   "metadata": {},
   "outputs": [
    {
     "data": {
      "text/html": [
       "<div>\n",
       "<style scoped>\n",
       "    .dataframe tbody tr th:only-of-type {\n",
       "        vertical-align: middle;\n",
       "    }\n",
       "\n",
       "    .dataframe tbody tr th {\n",
       "        vertical-align: top;\n",
       "    }\n",
       "\n",
       "    .dataframe thead th {\n",
       "        text-align: right;\n",
       "    }\n",
       "</style>\n",
       "<table border=\"1\" class=\"dataframe\">\n",
       "  <thead>\n",
       "    <tr style=\"text-align: right;\">\n",
       "      <th></th>\n",
       "      <th>Poor</th>\n",
       "      <th>Rich</th>\n",
       "      <th>Richest</th>\n",
       "    </tr>\n",
       "  </thead>\n",
       "  <tbody>\n",
       "    <tr>\n",
       "      <th>0</th>\n",
       "      <td>0.0</td>\n",
       "      <td>0.000000</td>\n",
       "      <td>0.000000</td>\n",
       "    </tr>\n",
       "    <tr>\n",
       "      <th>1</th>\n",
       "      <td>0.0</td>\n",
       "      <td>4.333333</td>\n",
       "      <td>15.333333</td>\n",
       "    </tr>\n",
       "    <tr>\n",
       "      <th>2</th>\n",
       "      <td>0.0</td>\n",
       "      <td>6.666667</td>\n",
       "      <td>20.333333</td>\n",
       "    </tr>\n",
       "    <tr>\n",
       "      <th>3</th>\n",
       "      <td>0.0</td>\n",
       "      <td>7.666667</td>\n",
       "      <td>23.833333</td>\n",
       "    </tr>\n",
       "    <tr>\n",
       "      <th>4</th>\n",
       "      <td>0.0</td>\n",
       "      <td>8.500000</td>\n",
       "      <td>26.166667</td>\n",
       "    </tr>\n",
       "    <tr>\n",
       "      <th>...</th>\n",
       "      <td>...</td>\n",
       "      <td>...</td>\n",
       "      <td>...</td>\n",
       "    </tr>\n",
       "    <tr>\n",
       "      <th>75</th>\n",
       "      <td>0.0</td>\n",
       "      <td>14.666667</td>\n",
       "      <td>33.000000</td>\n",
       "    </tr>\n",
       "    <tr>\n",
       "      <th>76</th>\n",
       "      <td>0.0</td>\n",
       "      <td>14.666667</td>\n",
       "      <td>33.000000</td>\n",
       "    </tr>\n",
       "    <tr>\n",
       "      <th>77</th>\n",
       "      <td>0.0</td>\n",
       "      <td>14.666667</td>\n",
       "      <td>33.000000</td>\n",
       "    </tr>\n",
       "    <tr>\n",
       "      <th>78</th>\n",
       "      <td>0.0</td>\n",
       "      <td>14.666667</td>\n",
       "      <td>33.166667</td>\n",
       "    </tr>\n",
       "    <tr>\n",
       "      <th>79</th>\n",
       "      <td>0.0</td>\n",
       "      <td>14.666667</td>\n",
       "      <td>33.166667</td>\n",
       "    </tr>\n",
       "  </tbody>\n",
       "</table>\n",
       "<p>80 rows × 3 columns</p>\n",
       "</div>"
      ],
      "text/plain": [
       "    Poor       Rich    Richest\n",
       "0    0.0   0.000000   0.000000\n",
       "1    0.0   4.333333  15.333333\n",
       "2    0.0   6.666667  20.333333\n",
       "3    0.0   7.666667  23.833333\n",
       "4    0.0   8.500000  26.166667\n",
       "..   ...        ...        ...\n",
       "75   0.0  14.666667  33.000000\n",
       "76   0.0  14.666667  33.000000\n",
       "77   0.0  14.666667  33.000000\n",
       "78   0.0  14.666667  33.166667\n",
       "79   0.0  14.666667  33.166667\n",
       "\n",
       "[80 rows x 3 columns]"
      ]
     },
     "execution_count": 213,
     "metadata": {},
     "output_type": "execute_result"
    }
   ],
   "source": [
    "avg_per_policy = {p: np.mean(data[\"TotalAdapted\"][experiments[\"policy\"] == p], axis=(0,1)) for p in unique_policies}\n",
    "\n",
    "df_avg_per_policy = pd.DataFrame(avg_per_policy)\n",
    "df_avg_per_policy\n",
    "\n",
    "# sns.lineplot(data=df_avg_per_policy,hue=\"region\",)\n"
   ]
  },
  {
   "cell_type": "code",
   "execution_count": 293,
   "metadata": {},
   "outputs": [],
   "source": [
    "# Usefull Dataframes\n",
    "flat_dict=  {k: v.flatten() for k, v in data.items()}\n",
    "df_all = pd.DataFrame(np.repeat(experiments.values, n_replications*n_timesteps, axis=0), columns=experiments.columns)\n",
    "df_all[\"time\"]= np.array([i for j in range(n_replications * n_scenarios)  for i in range(n_timesteps)])\n",
    "df_all = df_all.join(pd.DataFrame(flat_dict))\n",
    "df_all\n",
    "\n",
    "# Mean of the scenarios\n",
    "df_scenario_mean = df_all.groupby([\"policy\", \"scenario\", \"time\"])[[\"TotalAdapted\"]].mean()\n",
    "\n"
   ]
  },
  {
   "cell_type": "code",
   "execution_count": 302,
   "metadata": {},
   "outputs": [
    {
     "data": {
      "text/plain": [
       "<Axes: xlabel='time', ylabel='TotalAdapted'>"
      ]
     },
     "execution_count": 302,
     "metadata": {},
     "output_type": "execute_result"
    },
    {
     "data": {
      "image/png": "[encoded data removed]",
      "text/plain": [
       "<Figure size 400x300 with 1 Axes>"
      ]
     },
     "metadata": {},
     "output_type": "display_data"
    }
   ],
   "source": [
    "sns.lineplot(x=\"time\", y=\"TotalAdapted\", hue=\"policy\", data=df_all)"
   ]
  },
  {
   "cell_type": "code",
   "execution_count": 305,
   "metadata": {},
   "outputs": [
    {
     "data": {
      "text/plain": [
       "<Axes: xlabel='policy', ylabel='TotalAdapted'>"
      ]
     },
     "execution_count": 305,
     "metadata": {},
     "output_type": "execute_result"
    },
    {
     "data": {
      "image/png": "[encoded data removed]",
      "text/plain": [
       "<Figure size 400x300 with 1 Axes>"
      ]
     },
     "metadata": {},
     "output_type": "display_data"
    }
   ],
   "source": [
    "sns.boxplot(x=\"policy\", y=\"TotalAdapted\", hue=\"scenario\", data=df_all)"
   ]
  },
  {
   "cell_type": "code",
   "execution_count": null,
   "metadata": {},
   "outputs": [],
   "source": []
  }
 ],
 "metadata": {
  "language_info": {
   "name": "python"
  }
 },
 "nbformat": 4,
 "nbformat_minor": 2
}
